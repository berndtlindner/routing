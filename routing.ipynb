{
 "cells": [
  {
   "cell_type": "markdown",
   "id": "0abbe4b1",
   "metadata": {},
   "source": [
    "# OSRM"
   ]
  },
  {
   "cell_type": "code",
   "execution_count": null,
   "id": "357a6149",
   "metadata": {},
   "outputs": [],
   "source": [
    "# https://pypi.org/project/osrm-py/\n",
    "import osrm\n",
    "import folium\n",
    "import polyline\n",
    "\n",
    "client = osrm.Client(host='http://localhost:5000')\n",
    "\n",
    "response = client.route(\n",
    "    coordinates=[[-74.0056, 40.6197], [-74.0034, 40.6333]],\n",
    "    overview=osrm.overview.full)\n",
    "\n",
    "print(response)"
   ]
  },
  {
   "cell_type": "code",
   "execution_count": null,
   "id": "52ae5abe",
   "metadata": {},
   "outputs": [],
   "source": [
    "# import asyncio\n",
    "# import osrm\n",
    "\n",
    "# loop = asyncio.get_event_loop()\n",
    "\n",
    "# async def request():\n",
    "#     client = osrm.AioHTTPClient(host='http://localhost:5000')\n",
    "#     response = await client.route(\n",
    "#         coordinates=[[-74.0056, 40.6197], [-74.0034, 40.6333]],\n",
    "#         overview=osrm.overview.full)\n",
    "#     print(response)\n",
    "#     await client.close()\n",
    "\n",
    "# loop.run_until_complete(request())"
   ]
  },
  {
   "cell_type": "code",
   "execution_count": null,
   "id": "bf0b0aaf",
   "metadata": {},
   "outputs": [],
   "source": [
    "# TODO: not getting to display on map (folium right) right\n",
    "# m = folium.Map()\n",
    "# for i in res['matchings']:\n",
    "#     folium.PolyLine(locations=polyline.decode(i['geometry'])).add_to(m)\n",
    "# m.save('route.html')"
   ]
  },
  {
   "cell_type": "markdown",
   "id": "70de009c",
   "metadata": {},
   "source": [
    "# Googlge Maps"
   ]
  },
  {
   "cell_type": "code",
   "execution_count": null,
   "id": "f718c089",
   "metadata": {},
   "outputs": [],
   "source": [
    "# https://github.com/googlemaps/google-maps-services-python\n",
    "# Google Cloud offers a $300 free trial, \n",
    "# and Google Maps Platform features a recurring $200 monthly credit. \n",
    "# For more information, see Billing account credits and Billing.\n",
    "import googlemaps\n",
    "from datetime import datetime\n",
    "import os\n",
    "\n",
    "\n",
    "# Private, do not share publically\n",
    "# api_key = 'Add Your Key here'\n",
    "api_key = os.environ.get(\"GOOGLE_MAPS_API_KEY\")\n",
    "gmaps = googlemaps.Client(key=api_key)\n",
    "\n",
    "\n",
    "# # Geocoding an address\n",
    "geocode_result = gmaps.geocode('1600 Amphitheatre Parkway, Mountain View, CA')\n",
    "\n",
    "# Look up an address with reverse geocoding\n",
    "reverse_geocode_result = gmaps.reverse_geocode((40.714224, -73.961452))\n",
    "\n",
    "# Request directions via public transit\n",
    "now = datetime.now()\n",
    "directions_result = gmaps.directions(\"Sydney Town Hall\",\n",
    "                                     \"Parramatta, NSW\",\n",
    "                                     mode=\"transit\",\n",
    "                                     departure_time=now)\n",
    "directions_result"
   ]
  },
  {
   "cell_type": "code",
   "execution_count": null,
   "id": "146f4e15",
   "metadata": {},
   "outputs": [],
   "source": [
    "# TODO: not coming right to plot\n",
    "locations = [\"Fort Canning Park, Singapore\",\n",
    "          \"Chinatown Buddha Tooth Relic Temple\", \n",
    "          \"Sentosa Island, Singapore\", \n",
    "          \"National Gallery Singapore\", \n",
    "          \"Boat Quay @ Bonham Street, Singapore 049782\",\n",
    "          \"Botanic Garden, Singapore\",\n",
    "          \"Raffles Hotel, Singapore\"]\n",
    "\n",
    "markers = [\"color:blue|size:mid|label:\" + chr(65+i) + \"|\" \n",
    "                   + r for i, r in enumerate(locations)]\n",
    "\n",
    "result_map = gmaps.static_map(\n",
    "                 center=locations[0],\n",
    "                 scale=2, \n",
    "                 zoom=12,\n",
    "                 size=[640, 640], \n",
    "                 format=\"jpg\", \n",
    "                 maptype=\"roadmap\",\n",
    "                 markers=markers,\n",
    "                 path=\"color:0x0000ff|weight:2|\" + \"|\".join(locations))\n",
    "\n",
    "display(result_map)\n",
    "\n",
    "#TODO: not coming right\n",
    "with open(\"driving_route_map.jpeg\", \"wb\") as img:\n",
    "    for chunk in result_map:\n",
    "        img.write(chunk)"
   ]
  },
  {
   "cell_type": "code",
   "execution_count": null,
   "id": "f0aeed71",
   "metadata": {},
   "outputs": [],
   "source": []
  }
 ],
 "metadata": {
  "kernelspec": {
   "display_name": "Python 3 (ipykernel)",
   "language": "python",
   "name": "python3"
  },
  "language_info": {
   "codemirror_mode": {
    "name": "ipython",
    "version": 3
   },
   "file_extension": ".py",
   "mimetype": "text/x-python",
   "name": "python",
   "nbconvert_exporter": "python",
   "pygments_lexer": "ipython3",
   "version": "3.8.10"
  }
 },
 "nbformat": 4,
 "nbformat_minor": 5
}
